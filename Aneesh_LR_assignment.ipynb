{
  "nbformat": 4,
  "nbformat_minor": 0,
  "metadata": {
    "colab": {
      "name": "Aneesh-LR assignment.ipynb",
      "provenance": [],
      "collapsed_sections": [],
      "authorship_tag": "ABX9TyNJiejHXwbBUQTHwRwsG8qL",
      "include_colab_link": true
    },
    "kernelspec": {
      "name": "python3",
      "display_name": "Python 3"
    },
    "language_info": {
      "name": "python"
    }
  },
  "cells": [
    {
      "cell_type": "markdown",
      "metadata": {
        "id": "view-in-github",
        "colab_type": "text"
      },
      "source": [
        "<a href=\"https://colab.research.google.com/github/Aneesh-Pal/Aneesh-PaL/blob/main/Aneesh_LR_assignment.ipynb\" target=\"_parent\"><img src=\"https://colab.research.google.com/assets/colab-badge.svg\" alt=\"Open In Colab\"/></a>"
      ]
    },
    {
      "cell_type": "code",
      "execution_count": 95,
      "metadata": {
        "colab": {
          "base_uri": "https://localhost:8080/"
        },
        "id": "FxblQuesNnB8",
        "outputId": "b7b27617-eb04-4dca-927f-e33454c231be"
      },
      "outputs": [
        {
          "output_type": "stream",
          "name": "stdout",
          "text": [
            "Requirement already satisfied: pyspark in /usr/local/lib/python3.7/dist-packages (3.2.1)\n",
            "Requirement already satisfied: py4j==0.10.9.3 in /usr/local/lib/python3.7/dist-packages (from pyspark) (0.10.9.3)\n"
          ]
        }
      ],
      "source": [
        "pip install pyspark"
      ]
    },
    {
      "cell_type": "code",
      "source": [
        "from pyspark.sql import SparkSession\n",
        "session=SparkSession.builder.appName(\"Regression_Gate\").getOrCreate()"
      ],
      "metadata": {
        "id": "pJmon476OKKu"
      },
      "execution_count": 96,
      "outputs": []
    },
    {
      "cell_type": "markdown",
      "source": [
        "# Linear Regression"
      ],
      "metadata": {
        "id": "MWgspmg0OVdX"
      }
    },
    {
      "cell_type": "code",
      "source": [
        "# importing dataset\n",
        "data=session.read.csv(\"Gate_Admission3.csv\",header=True,inferSchema=True)"
      ],
      "metadata": {
        "id": "x2imDTznOKNC"
      },
      "execution_count": 97,
      "outputs": []
    },
    {
      "cell_type": "code",
      "source": [
        "data.show(5)"
      ],
      "metadata": {
        "colab": {
          "base_uri": "https://localhost:8080/"
        },
        "id": "TNZxsVQyOKPd",
        "outputId": "41ec300c-c1f8-47ee-997b-9928f426d108"
      },
      "execution_count": 98,
      "outputs": [
        {
          "output_type": "stream",
          "name": "stdout",
          "text": [
            "+---------+---------+-----------+-----------------+---+---+----+--------+---------------+------+\n",
            "|Serial No|GRE Score|TOTAL Score|University Rating|SOP|LOR|CGPA|Research|Chance of Admit|Gender|\n",
            "+---------+---------+-----------+-----------------+---+---+----+--------+---------------+------+\n",
            "|        1|      337|        118|                4|4.5|4.5|9.65|       1|           0.92|  Male|\n",
            "|        2|      324|        107|                4|4.0|4.5|8.87|       1|           0.76|Female|\n",
            "|        3|        0|        104|                3|3.0|3.5| 8.0|       1|           0.72|  Male|\n",
            "|        4|      322|        110|                3|3.5|2.5|8.67|       1|            0.8|  Male|\n",
            "|        5|      314|        103|                2|2.0|3.0|8.21|       0|           0.65|  Male|\n",
            "+---------+---------+-----------+-----------------+---+---+----+--------+---------------+------+\n",
            "only showing top 5 rows\n",
            "\n"
          ]
        }
      ]
    },
    {
      "cell_type": "code",
      "source": [
        "data.columns"
      ],
      "metadata": {
        "colab": {
          "base_uri": "https://localhost:8080/"
        },
        "id": "Ybbym-J2OKSN",
        "outputId": "fea7d0ac-f1f8-4e05-886e-d13c0c94322d"
      },
      "execution_count": 99,
      "outputs": [
        {
          "output_type": "execute_result",
          "data": {
            "text/plain": [
              "['Serial No',\n",
              " 'GRE Score',\n",
              " 'TOTAL Score',\n",
              " 'University Rating',\n",
              " 'SOP',\n",
              " 'LOR',\n",
              " 'CGPA',\n",
              " 'Research',\n",
              " 'Chance of Admit',\n",
              " 'Gender']"
            ]
          },
          "metadata": {},
          "execution_count": 99
        }
      ]
    },
    {
      "cell_type": "code",
      "source": [
        "data.printSchema()"
      ],
      "metadata": {
        "colab": {
          "base_uri": "https://localhost:8080/"
        },
        "id": "GdnjJb1fOKUe",
        "outputId": "0a4e831a-fa03-4304-d065-0e030fb3528c"
      },
      "execution_count": 100,
      "outputs": [
        {
          "output_type": "stream",
          "name": "stdout",
          "text": [
            "root\n",
            " |-- Serial No: integer (nullable = true)\n",
            " |-- GRE Score: integer (nullable = true)\n",
            " |-- TOTAL Score: integer (nullable = true)\n",
            " |-- University Rating: integer (nullable = true)\n",
            " |-- SOP: double (nullable = true)\n",
            " |-- LOR: double (nullable = true)\n",
            " |-- CGPA: double (nullable = true)\n",
            " |-- Research: integer (nullable = true)\n",
            " |-- Chance of Admit: double (nullable = true)\n",
            " |-- Gender: string (nullable = true)\n",
            "\n"
          ]
        }
      ]
    },
    {
      "cell_type": "code",
      "source": [
        "#importing required functions \n",
        "from pyspark.ml.feature import VectorAssembler,StringIndexer,OneHotEncoder"
      ],
      "metadata": {
        "id": "UW8F_5jMOKX8"
      },
      "execution_count": 101,
      "outputs": []
    },
    {
      "cell_type": "code",
      "source": [
        "# Changing string datatypes of attributes using StringIndexer\n",
        "str_idx=StringIndexer(inputCol='Gender',outputCol='new_Gender',handleInvalid='skip')"
      ],
      "metadata": {
        "id": "jcZv3_s-OKax"
      },
      "execution_count": 104,
      "outputs": []
    },
    {
      "cell_type": "code",
      "source": [
        "# assigning categorical variable into numerical using OnehotEncoder\n",
        "onehot=OneHotEncoder(inputCol='new_Gender',outputCol='new_Gender2')"
      ],
      "metadata": {
        "id": "o1m8MYJQcchi"
      },
      "execution_count": 105,
      "outputs": []
    },
    {
      "cell_type": "code",
      "source": [
        "# assembling features using VectorAssembler\n",
        "vec_assem=VectorAssembler(inputCols=['Serial No',\n",
        " 'GRE Score',\n",
        " 'TOTAL Score',\n",
        " 'University Rating',\n",
        " 'SOP',\n",
        " 'LOR',\n",
        " 'CGPA',\n",
        " 'Research'],outputCol='allfeatures')"
      ],
      "metadata": {
        "id": "NZd6zU-wOKdN"
      },
      "execution_count": 106,
      "outputs": []
    },
    {
      "cell_type": "code",
      "source": [
        "# importing model \n",
        "from pyspark.ml.regression import LinearRegression\n",
        "lr=LinearRegression(featuresCol='allfeatures',labelCol='Chance of Admit')"
      ],
      "metadata": {
        "id": "zvRbwgwJOKgG"
      },
      "execution_count": 107,
      "outputs": []
    },
    {
      "cell_type": "code",
      "source": [
        "from pyspark.ml import Pipeline\n",
        "mypipe=Pipeline(stages=[str_idx,onehot,vec_assem,lr])"
      ],
      "metadata": {
        "id": "9jC8TShTOKi5"
      },
      "execution_count": 110,
      "outputs": []
    },
    {
      "cell_type": "code",
      "source": [
        "training,test=data.randomSplit([0.8,0.2])"
      ],
      "metadata": {
        "id": "1Ai7cgwTOKlP"
      },
      "execution_count": 111,
      "outputs": []
    },
    {
      "cell_type": "code",
      "source": [
        "training.show(5)"
      ],
      "metadata": {
        "colab": {
          "base_uri": "https://localhost:8080/"
        },
        "id": "AMUUX5npOKn4",
        "outputId": "7131edca-0813-4233-aefc-1d5671d0bcd4"
      },
      "execution_count": 112,
      "outputs": [
        {
          "output_type": "stream",
          "name": "stdout",
          "text": [
            "+---------+---------+-----------+-----------------+---+---+----+--------+---------------+------+\n",
            "|Serial No|GRE Score|TOTAL Score|University Rating|SOP|LOR|CGPA|Research|Chance of Admit|Gender|\n",
            "+---------+---------+-----------+-----------------+---+---+----+--------+---------------+------+\n",
            "|        2|      324|        107|                4|4.0|4.5|8.87|       1|           0.76|Female|\n",
            "|        3|        0|        104|                3|3.0|3.5| 8.0|       1|           0.72|  Male|\n",
            "|        5|      314|        103|                2|2.0|3.0|8.21|       0|           0.65|  Male|\n",
            "|        6|      330|        115|                5|4.5|3.0|9.34|       1|            0.9|  Male|\n",
            "|        7|      321|        109|                0|3.0|4.0| 8.2|       1|           0.75|Female|\n",
            "+---------+---------+-----------+-----------------+---+---+----+--------+---------------+------+\n",
            "only showing top 5 rows\n",
            "\n"
          ]
        }
      ]
    },
    {
      "cell_type": "code",
      "source": [
        "fitmodel=mypipe.fit(training)"
      ],
      "metadata": {
        "id": "DzsRYsCsOKqH"
      },
      "execution_count": 113,
      "outputs": []
    },
    {
      "cell_type": "code",
      "source": [
        "result = fitmodel.transform(test)\n",
        "result.show(20)"
      ],
      "metadata": {
        "colab": {
          "base_uri": "https://localhost:8080/"
        },
        "id": "JLKKhwwzOKsi",
        "outputId": "2d74810f-227f-4e0d-fa45-e606113db5b9"
      },
      "execution_count": 118,
      "outputs": [
        {
          "output_type": "stream",
          "name": "stdout",
          "text": [
            "+---------+---------+-----------+-----------------+---+---+----+--------+---------------+------+----------+-------------+--------------------+------------------+\n",
            "|Serial No|GRE Score|TOTAL Score|University Rating|SOP|LOR|CGPA|Research|Chance of Admit|Gender|new_Gender|  new_Gender2|         allfeatures|        prediction|\n",
            "+---------+---------+-----------+-----------------+---+---+----+--------+---------------+------+----------+-------------+--------------------+------------------+\n",
            "|        1|      337|        118|                4|4.5|4.5|9.65|       1|           0.92|  Male|       0.0|(1,[0],[1.0])|[1.0,337.0,118.0,...|0.9216101032626984|\n",
            "|        4|      322|        110|                3|3.5|2.5|8.67|       1|            0.8|  Male|       0.0|(1,[0],[1.0])|[4.0,322.0,110.0,...|0.7219238209765597|\n",
            "|        9|      302|        102|                1|2.0|1.5| 8.0|       0|            0.5|  Male|       0.0|(1,[0],[1.0])|[9.0,302.0,102.0,...|0.5442873176559213|\n",
            "|       11|      325|        106|                3|3.5|4.0| 8.4|       1|           0.52|  Male|       0.0|(1,[0],[1.0])|[11.0,325.0,106.0...|0.6995183112669177|\n",
            "|       21|      312|        107|                3|3.0|2.0| 7.9|       1|           0.64|  Male|       0.0|(1,[0],[1.0])|[21.0,312.0,107.0...|0.5883962043096596|\n",
            "|       23|      328|        116|                5|5.0|5.0| 9.5|       1|           0.94|Female|       1.0|    (1,[],[])|[23.0,328.0,116.0...|0.9155746549174597|\n",
            "|       25|      336|        119|                5|4.0|3.5| 9.8|       1|           0.97|Female|       1.0|    (1,[],[])|[25.0,336.0,119.0...| 0.937439629946019|\n",
            "|       26|      340|        120|                5|4.5|4.5| 9.6|       1|           0.94|  Male|       0.0|(1,[0],[1.0])|[26.0,340.0,120.0...|0.9225083182533655|\n",
            "|       33|      338|        118|                4|3.0|4.5| 9.4|       1|           0.91|  Male|       0.0|(1,[0],[1.0])|[33.0,338.0,118.0...|0.8740332319386073|\n",
            "|       34|      340|        114|                5|4.0|4.0| 9.6|       1|            0.9|  Male|       0.0|(1,[0],[1.0])|[34.0,340.0,114.0...|0.9126381740786662|\n",
            "|       36|      320|        110|                5|5.0|5.0| 9.2|       1|           0.88|  Male|       0.0|(1,[0],[1.0])|[36.0,320.0,110.0...|0.8675008466709646|\n",
            "|       40|      307|        108|                2|4.0|3.5| 7.7|       0|           0.48|  Male|       0.0|(1,[0],[1.0])|[40.0,307.0,108.0...|0.5460420611372065|\n",
            "|       43|      313|        107|                2|2.5|2.0| 8.5|       1|           0.53|  Male|       0.0|(1,[0],[1.0])|[43.0,313.0,107.0...|0.6765059587106641|\n",
            "|       45|      326|        113|                5|4.5|4.0| 9.4|       1|           0.91|  Male|       0.0|(1,[0],[1.0])|[45.0,326.0,113.0...|0.8837698052585086|\n",
            "|       46|      322|        110|                0|5.0|4.0| 9.1|       1|           0.88|  Male|       0.0|(1,[0],[1.0])|[46.0,322.0,110.0...|0.8036205917221491|\n",
            "|       48|      339|        119|                5|4.5|4.0| 9.7|       0|           0.89|  Male|       0.0|(1,[0],[1.0])|[48.0,339.0,119.0...|0.9016996610688508|\n",
            "|       50|      327|        111|                4|3.0|4.0| 8.4|       1|           0.78|  Male|       0.0|(1,[0],[1.0])|[50.0,327.0,111.0...|0.7063877375149865|\n",
            "|       53|      334|        116|                4|4.0|3.0| 8.0|       1|           0.78|  Male|       0.0|(1,[0],[1.0])|[53.0,334.0,116.0...|0.6353225445685116|\n",
            "|       60|      311|        104|                2|2.0|2.0| 8.3|       0|           0.42|  Male|       0.0|(1,[0],[1.0])|[60.0,311.0,104.0...|0.6105572270595578|\n",
            "|       62|      307|        101|                3|4.0|3.0| 8.2|       0|           0.47|  Male|       0.0|(1,[0],[1.0])|[62.0,307.0,101.0...|0.6278140129063581|\n",
            "+---------+---------+-----------+-----------------+---+---+----+--------+---------------+------+----------+-------------+--------------------+------------------+\n",
            "only showing top 20 rows\n",
            "\n"
          ]
        }
      ]
    },
    {
      "cell_type": "code",
      "source": [
        "from pyspark.ml.evaluation import RegressionEvaluator"
      ],
      "metadata": {
        "id": "A2b2STkeOKvJ"
      },
      "execution_count": 115,
      "outputs": []
    },
    {
      "cell_type": "code",
      "source": [
        "eval_obj=RegressionEvaluator(predictionCol=\"prediction\",labelCol=\"Chance of Admit\",metricName=\"r2\")"
      ],
      "metadata": {
        "id": "CabxUDr9OKxj"
      },
      "execution_count": 119,
      "outputs": []
    },
    {
      "cell_type": "code",
      "source": [
        "accuracy=eval_obj.evaluate(result)\n",
        "print(accuracy)"
      ],
      "metadata": {
        "colab": {
          "base_uri": "https://localhost:8080/"
        },
        "id": "8oJVh6WwOKzX",
        "outputId": "0eae0eca-4f07-4a7d-acea-8b0068747706"
      },
      "execution_count": 120,
      "outputs": [
        {
          "output_type": "stream",
          "name": "stdout",
          "text": [
            "0.8225638734917513\n"
          ]
        }
      ]
    },
    {
      "cell_type": "code",
      "source": [
        ""
      ],
      "metadata": {
        "id": "boc8U9c3Shq-"
      },
      "execution_count": null,
      "outputs": []
    }
  ]
}