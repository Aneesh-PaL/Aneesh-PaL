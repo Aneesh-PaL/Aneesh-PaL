{
  "nbformat": 4,
  "nbformat_minor": 0,
  "metadata": {
    "colab": {
      "name": "Aneeshpal_Assignment(Cirrhosis).ipynb",
      "provenance": [],
      "collapsed_sections": [],
      "authorship_tag": "ABX9TyPrs8MD2wPY/p6QYjZBHF8S",
      "include_colab_link": true
    },
    "kernelspec": {
      "name": "python3",
      "display_name": "Python 3"
    },
    "language_info": {
      "name": "python"
    }
  },
  "cells": [
    {
      "cell_type": "markdown",
      "metadata": {
        "id": "view-in-github",
        "colab_type": "text"
      },
      "source": [
        "<a href=\"https://colab.research.google.com/github/Aneesh-Pal/Aneesh-PaL/blob/main/Aneeshpal_Assignment(Cirrhosis).ipynb\" target=\"_parent\"><img src=\"https://colab.research.google.com/assets/colab-badge.svg\" alt=\"Open In Colab\"/></a>"
      ]
    },
    {
      "cell_type": "code",
      "execution_count": 1,
      "metadata": {
        "colab": {
          "base_uri": "https://localhost:8080/"
        },
        "id": "UtDsyLnwEfSB",
        "outputId": "350c1ae9-98f3-453c-c7e4-d2dbed9ac464"
      },
      "outputs": [
        {
          "output_type": "stream",
          "name": "stdout",
          "text": [
            "Collecting pyspark\n",
            "  Downloading pyspark-3.2.1.tar.gz (281.4 MB)\n",
            "\u001b[K     |████████████████████████████████| 281.4 MB 31 kB/s \n",
            "\u001b[?25hCollecting py4j==0.10.9.3\n",
            "  Downloading py4j-0.10.9.3-py2.py3-none-any.whl (198 kB)\n",
            "\u001b[K     |████████████████████████████████| 198 kB 38.5 MB/s \n",
            "\u001b[?25hBuilding wheels for collected packages: pyspark\n",
            "  Building wheel for pyspark (setup.py) ... \u001b[?25l\u001b[?25hdone\n",
            "  Created wheel for pyspark: filename=pyspark-3.2.1-py2.py3-none-any.whl size=281853642 sha256=29705743f1c460583f5007fce9e2aebb60ab46d6352281f91d0b86ca0cd43b93\n",
            "  Stored in directory: /root/.cache/pip/wheels/9f/f5/07/7cd8017084dce4e93e84e92efd1e1d5334db05f2e83bcef74f\n",
            "Successfully built pyspark\n",
            "Installing collected packages: py4j, pyspark\n",
            "Successfully installed py4j-0.10.9.3 pyspark-3.2.1\n"
          ]
        }
      ],
      "source": [
        "pip install pyspark"
      ]
    },
    {
      "cell_type": "code",
      "source": [
        "from pyspark.sql import SparkSession"
      ],
      "metadata": {
        "id": "Y4eNG_BKEgim"
      },
      "execution_count": 2,
      "outputs": []
    },
    {
      "cell_type": "code",
      "source": [
        "session=SparkSession.builder.appName(\"MyCode\").getOrCreate()"
      ],
      "metadata": {
        "id": "jvUScTJoEglF"
      },
      "execution_count": 3,
      "outputs": []
    },
    {
      "cell_type": "code",
      "source": [
        "df=session.read.csv(\"cirrhosis.csv\",header=True, inferSchema=True)"
      ],
      "metadata": {
        "id": "iAH24hwVEgnj"
      },
      "execution_count": 5,
      "outputs": []
    },
    {
      "cell_type": "code",
      "source": [
        "df.show(5)"
      ],
      "metadata": {
        "colab": {
          "base_uri": "https://localhost:8080/"
        },
        "id": "-cPSORnzEgqJ",
        "outputId": "2ed90065-5537-478e-f2d1-5633b5bb15b1"
      },
      "execution_count": 6,
      "outputs": [
        {
          "output_type": "stream",
          "name": "stdout",
          "text": [
            "+---+------+------+---------------+-----+---+-------+------------+-------+-----+---------+-----------+-------+------+--------+------+-------------+---------+-----------+-----+\n",
            "| ID|N_Days|Status|           Drug|  Age|Sex|Ascites|Hepatomegaly|Spiders|Edema|Bilirubin|Cholesterol|Albumin|Copper|Alk_Phos|  SGOT|Tryglicerides|Platelets|Prothrombin|Stage|\n",
            "+---+------+------+---------------+-----+---+-------+------------+-------+-----+---------+-----------+-------+------+--------+------+-------------+---------+-----------+-----+\n",
            "|  1|   400|     D|D-penicillamine|21464|  F|      Y|           Y|      Y|    Y|     14.5|        261|    2.6|   156|    1718|137.95|          172|      190|       12.2|    4|\n",
            "|  2|  4500|     C|D-penicillamine|20617|  F|      N|           Y|      Y|    N|      1.1|        302|   4.14|    54|  7394.8|113.52|           88|      221|       10.6|    3|\n",
            "|  3|  1012|     D|D-penicillamine|25594|  M|      N|           N|      N|    S|      1.4|        176|   3.48|   210|     516|  96.1|           55|      151|         12|    4|\n",
            "|  4|  1925|     D|D-penicillamine|19994|  F|      N|           Y|      Y|    S|      1.8|        244|   2.54|    64|  6121.8| 60.63|           92|      183|       10.3|    4|\n",
            "|  5|  1504|    CL|        Placebo|13918|  F|      N|           Y|      Y|    N|      3.4|        279|   3.53|   143|     671|113.15|           72|      136|       10.9|    3|\n",
            "+---+------+------+---------------+-----+---+-------+------------+-------+-----+---------+-----------+-------+------+--------+------+-------------+---------+-----------+-----+\n",
            "only showing top 5 rows\n",
            "\n"
          ]
        }
      ]
    },
    {
      "cell_type": "code",
      "source": [
        "df.columns"
      ],
      "metadata": {
        "colab": {
          "base_uri": "https://localhost:8080/"
        },
        "id": "czZIowbfFgbx",
        "outputId": "3084d5a0-89c0-4f96-dd7a-83a3edfba59b"
      },
      "execution_count": 7,
      "outputs": [
        {
          "output_type": "execute_result",
          "data": {
            "text/plain": [
              "['ID',\n",
              " 'N_Days',\n",
              " 'Status',\n",
              " 'Drug',\n",
              " 'Age',\n",
              " 'Sex',\n",
              " 'Ascites',\n",
              " 'Hepatomegaly',\n",
              " 'Spiders',\n",
              " 'Edema',\n",
              " 'Bilirubin',\n",
              " 'Cholesterol',\n",
              " 'Albumin',\n",
              " 'Copper',\n",
              " 'Alk_Phos',\n",
              " 'SGOT',\n",
              " 'Tryglicerides',\n",
              " 'Platelets',\n",
              " 'Prothrombin',\n",
              " 'Stage']"
            ]
          },
          "metadata": {},
          "execution_count": 7
        }
      ]
    },
    {
      "cell_type": "code",
      "source": [
        "df.describe"
      ],
      "metadata": {
        "colab": {
          "base_uri": "https://localhost:8080/"
        },
        "id": "QcauLxOsFpJO",
        "outputId": "6c10d96c-8ccc-4c1a-f56a-f34daf1e6d5e"
      },
      "execution_count": 8,
      "outputs": [
        {
          "output_type": "execute_result",
          "data": {
            "text/plain": [
              "<bound method DataFrame.describe of DataFrame[ID: int, N_Days: int, Status: string, Drug: string, Age: int, Sex: string, Ascites: string, Hepatomegaly: string, Spiders: string, Edema: string, Bilirubin: double, Cholesterol: string, Albumin: double, Copper: string, Alk_Phos: string, SGOT: string, Tryglicerides: string, Platelets: string, Prothrombin: string, Stage: string]>"
            ]
          },
          "metadata": {},
          "execution_count": 8
        }
      ]
    },
    {
      "cell_type": "code",
      "source": [
        "from pyspark.ml.feature import VectorAssembler, StringIndexer, OneHotEncoder"
      ],
      "metadata": {
        "id": "VxzGKp2xEgsx"
      },
      "execution_count": 9,
      "outputs": []
    },
    {
      "cell_type": "code",
      "source": [
        "str_idx=StringIndexer(inputCols=['Status','Drug','Sex','Ascites','Hepatomegaly','Spiders','Edema','Bilirubin','Albumin','Cholesterol','Alk_Phos','SGOT','Tryglicerides','Platelets','Prothrombin','Copper','Stage'],outputCols=['new_Status','new_Drug','new_Sex','new_Ascites','new_Hepatomegaly','new_Spiders','new_Edema','new_Bilirubin','new_Albumin','new_Cholesterol','new_Alk_Phos','new_SGOT','new_Tryglicerides','new_Platelets','new_Prothrombin','new_Copper','new_Stage'],handleInvalid=\"skip\")"
      ],
      "metadata": {
        "id": "1iedYhAsEgva"
      },
      "execution_count": 10,
      "outputs": []
    },
    {
      "cell_type": "code",
      "source": [
        "onehot=OneHotEncoder(inputCols=['new_Status','new_Drug','new_Sex','new_Ascites','new_Hepatomegaly','new_Spiders','new_Edema'],outputCols=['new_Status2','new_Drug2','new_Sex2','new_Ascites2','new_Hepatomegaly2','new_Spiders2','new_Edema2'])"
      ],
      "metadata": {
        "id": "3y3Z7bPDEgx4"
      },
      "execution_count": 11,
      "outputs": []
    },
    {
      "cell_type": "code",
      "source": [
        "vect=VectorAssembler(inputCols=['N_Days','new_Status2','new_Drug2','Age','new_Sex2','new_Ascites2','new_Hepatomegaly2','new_Spiders2','new_Edema2','new_Bilirubin','new_Cholesterol','new_Albumin','new_Copper','new_Alk_Phos','new_SGOT','new_Tryglicerides','new_Platelets','new_Prothrombin'],outputCol=\"allfeatures\")"
      ],
      "metadata": {
        "id": "jPpfQ-nAEg0U"
      },
      "execution_count": 12,
      "outputs": []
    },
    {
      "cell_type": "code",
      "source": [
        "from pyspark.ml.classification import LogisticRegression\n",
        "log_reg = LogisticRegression(featuresCol=\"allfeatures\", labelCol = \"new_Stage\")"
      ],
      "metadata": {
        "id": "1bZsx-wGI06e"
      },
      "execution_count": 13,
      "outputs": []
    },
    {
      "cell_type": "code",
      "source": [
        "from pyspark.ml import Pipeline\n",
        "mypipeline = Pipeline(stages = [str_idx, onehot, vect, log_reg])"
      ],
      "metadata": {
        "id": "m0317f5LEg22"
      },
      "execution_count": 14,
      "outputs": []
    },
    {
      "cell_type": "code",
      "source": [
        "training, test = df.randomSplit([0.8, 0.2])"
      ],
      "metadata": {
        "id": "afWm90PXEg5S"
      },
      "execution_count": 27,
      "outputs": []
    },
    {
      "cell_type": "code",
      "source": [
        "log_reg_model = mypipeline.fit(training)"
      ],
      "metadata": {
        "id": "m0-qJH4CEg76"
      },
      "execution_count": 28,
      "outputs": []
    },
    {
      "cell_type": "code",
      "source": [
        "result = log_reg_model.transform(test)"
      ],
      "metadata": {
        "id": "IB1jilt2Eg-h"
      },
      "execution_count": 29,
      "outputs": []
    },
    {
      "cell_type": "code",
      "source": [
        "result.show()"
      ],
      "metadata": {
        "colab": {
          "base_uri": "https://localhost:8080/"
        },
        "id": "pkhM6m1YEhBh",
        "outputId": "c10152b8-2cbb-4108-afec-15780e9edf31"
      },
      "execution_count": 30,
      "outputs": [
        {
          "output_type": "stream",
          "name": "stdout",
          "text": [
            "+---+------+------+----+-----+---+-------+------------+-------+-----+---------+-----------+-------+------+--------+----+-------------+---------+-----------+-----+----------+--------+-------+-----------+----------------+-----------+---------+-------------+-----------+---------------+------------+--------+-----------------+-------------+---------------+----------+---------+-------------+---------+-------------+-------------+-----------------+-------------+-------------+--------------------+--------------------+--------------------+----------+\n",
            "| ID|N_Days|Status|Drug|  Age|Sex|Ascites|Hepatomegaly|Spiders|Edema|Bilirubin|Cholesterol|Albumin|Copper|Alk_Phos|SGOT|Tryglicerides|Platelets|Prothrombin|Stage|new_Status|new_Drug|new_Sex|new_Ascites|new_Hepatomegaly|new_Spiders|new_Edema|new_Bilirubin|new_Albumin|new_Cholesterol|new_Alk_Phos|new_SGOT|new_Tryglicerides|new_Platelets|new_Prothrombin|new_Copper|new_Stage|  new_Status2|new_Drug2|     new_Sex2| new_Ascites2|new_Hepatomegaly2| new_Spiders2|   new_Edema2|         allfeatures|       rawPrediction|         probability|prediction|\n",
            "+---+------+------+----+-----+---+-------+------------+-------+-----+---------+-----------+-------+------+--------+----+-------------+---------+-----------+-----+----------+--------+-------+-----------+----------------+-----------+---------+-------------+-----------+---------------+------------+--------+-----------------+-------------+---------------+----------+---------+-------------+---------+-------------+-------------+-----------------+-------------+-------------+--------------------+--------------------+--------------------+----------+\n",
            "|322|  2011|     D|  NA|23376|  F|     NA|          NA|     NA|    N|      1.1|         NA|   3.69|    NA|      NA|  NA|           NA|      139|       10.5|   NA|       1.0|     2.0|    0.0|        1.0|             2.0|        1.0|      0.0|          5.0|       47.0|            0.0|         0.0|     0.0|              0.0|         35.0|           16.0|       0.0|      4.0|(2,[1],[1.0])|(2,[],[])|(1,[0],[1.0])|(2,[1],[1.0])|        (2,[],[])|(2,[1],[1.0])|(2,[0],[1.0])|(24,[0,2,5,6,8,12...|[2.37399423670207...|[0.27693232376920...|       1.0|\n",
            "|327|  4214|     C|  NA|17897|  F|     NA|          NA|     NA|    N|      1.2|         NA|   3.99|    NA|      NA|  NA|           NA|       NA|       11.2|    2|       0.0|     2.0|    0.0|        1.0|             2.0|        1.0|      0.0|         11.0|       53.0|            0.0|         0.0|     0.0|              0.0|          0.0|           11.0|       0.0|      2.0|(2,[0],[1.0])|(2,[],[])|(1,[0],[1.0])|(2,[1],[1.0])|        (2,[],[])|(2,[1],[1.0])|(2,[0],[1.0])|(24,[0,1,5,6,8,12...|[2.74857200306071...|[0.27473328327847...|       2.0|\n",
            "|331|    94|     D|  NA|16802|  F|     NA|          NA|     NA|    S|      3.1|         NA|   3.56|    NA|      NA|  NA|           NA|      142|       13.6|    4|       1.0|     2.0|    0.0|        1.0|             2.0|        1.0|      1.0|         38.0|       21.0|            0.0|         0.0|     0.0|              0.0|         36.0|           38.0|       0.0|      1.0|(2,[1],[1.0])|(2,[],[])|(1,[0],[1.0])|(2,[1],[1.0])|        (2,[],[])|(2,[1],[1.0])|(2,[1],[1.0])|(24,[0,2,5,6,8,12...|[7.94180968907938...|[0.34553590623683...|       1.0|\n",
            "|337|  2286|     D|  NA|20454|  F|     NA|          NA|     NA|    N|      1.8|         NA|   3.64|    NA|      NA|  NA|           NA|      141|         10|   NA|       1.0|     2.0|    0.0|        1.0|             2.0|        1.0|      0.0|         13.0|       45.0|            0.0|         0.0|     0.0|              0.0|         95.0|            3.0|       0.0|      4.0|(2,[1],[1.0])|(2,[],[])|(1,[0],[1.0])|(2,[1],[1.0])|        (2,[],[])|(2,[1],[1.0])|(2,[0],[1.0])|(24,[0,2,5,6,8,12...|[0.28830756850538...|[0.17913728712078...|       4.0|\n",
            "|391|  1443|     C|  NA|14975|  F|     NA|          NA|     NA|    N|      1.2|         NA|    2.8|    NA|      NA|  NA|           NA|      120|         11|    2|       0.0|     2.0|    0.0|        1.0|             2.0|        1.0|      0.0|         11.0|      106.0|            0.0|         0.0|     0.0|              0.0|         84.0|            1.0|       0.0|      2.0|(2,[0],[1.0])|(2,[],[])|(1,[0],[1.0])|(2,[1],[1.0])|        (2,[],[])|(2,[1],[1.0])|(2,[0],[1.0])|(24,[0,1,5,6,8,12...|[1.25374740091110...|[0.40286411749431...|       0.0|\n",
            "|392|  1368|     C|  NA|25202|  F|     NA|          NA|     NA|    N|      0.4|         NA|   3.03|    NA|      NA|  NA|           NA|      173|       10.9|    3|       0.0|     2.0|    0.0|        1.0|             2.0|        1.0|      0.0|         10.0|       63.0|            0.0|         0.0|     0.0|              0.0|        103.0|           10.0|       0.0|      0.0|(2,[0],[1.0])|(2,[],[])|(1,[0],[1.0])|(2,[1],[1.0])|        (2,[],[])|(2,[1],[1.0])|(2,[0],[1.0])|(24,[0,1,5,6,8,12...|[1.19197230573980...|[0.30942581388614...|       1.0|\n",
            "|402|   943|     C|  NA|18993|  F|     NA|          NA|     NA|    N|      0.8|         NA|   3.01|    NA|      NA|  NA|           NA|      256|       10.6|    3|       0.0|     2.0|    0.0|        1.0|             2.0|        1.0|      0.0|          3.0|       32.0|            0.0|         0.0|     0.0|              0.0|         21.0|            0.0|       0.0|      0.0|(2,[0],[1.0])|(2,[],[])|(1,[0],[1.0])|(2,[1],[1.0])|        (2,[],[])|(2,[1],[1.0])|(2,[0],[1.0])|(24,[0,1,5,6,8,12...|[2.17514912618546...|[0.39109791119087...|       0.0|\n",
            "|409|  1067|     C|  NA|15706|  F|     NA|          NA|     NA|    N|      0.7|         NA|   3.73|    NA|      NA|  NA|           NA|      214|       10.8|    3|       0.0|     2.0|    0.0|        1.0|             2.0|        1.0|      0.0|          0.0|       74.0|            0.0|         0.0|     0.0|              0.0|         14.0|            8.0|       0.0|      0.0|(2,[0],[1.0])|(2,[],[])|(1,[0],[1.0])|(2,[1],[1.0])|        (2,[],[])|(2,[1],[1.0])|(2,[0],[1.0])|(24,[0,1,5,6,8,12...|[3.38388177366598...|[0.39716477372151...|       0.0|\n",
            "|410|  1072|     C|  NA|14245|  F|     NA|          NA|     NA|    N|      1.5|         NA|   3.81|    NA|      NA|  NA|           NA|      255|       10.8|    3|       0.0|     2.0|    0.0|        1.0|             2.0|        1.0|      0.0|         17.0|       76.0|            0.0|         0.0|     0.0|              0.0|        131.0|            8.0|       0.0|      0.0|(2,[0],[1.0])|(2,[],[])|(1,[0],[1.0])|(2,[1],[1.0])|        (2,[],[])|(2,[1],[1.0])|(2,[0],[1.0])|(24,[0,1,5,6,8,12...|[2.03939269833487...|[0.38819011580007...|       0.0|\n",
            "+---+------+------+----+-----+---+-------+------------+-------+-----+---------+-----------+-------+------+--------+----+-------------+---------+-----------+-----+----------+--------+-------+-----------+----------------+-----------+---------+-------------+-----------+---------------+------------+--------+-----------------+-------------+---------------+----------+---------+-------------+---------+-------------+-------------+-----------------+-------------+-------------+--------------------+--------------------+--------------------+----------+\n",
            "\n"
          ]
        }
      ]
    },
    {
      "cell_type": "code",
      "source": [
        "from pyspark.ml.evaluation import BinaryClassificationEvaluator\n",
        "eval = BinaryClassificationEvaluator(rawPredictionCol=\"prediction\", labelCol = \"new_Stage\")"
      ],
      "metadata": {
        "id": "IfKMtqgXEhDq"
      },
      "execution_count": 31,
      "outputs": []
    },
    {
      "cell_type": "code",
      "source": [
        "eval.evaluate(result)"
      ],
      "metadata": {
        "colab": {
          "base_uri": "https://localhost:8080/"
        },
        "id": "LHLr7ILDEhGR",
        "outputId": "04273c5c-8d56-409b-8502-569d16b9067c"
      },
      "execution_count": 32,
      "outputs": [
        {
          "output_type": "execute_result",
          "data": {
            "text/plain": [
              "0.8250000000000001"
            ]
          },
          "metadata": {},
          "execution_count": 32
        }
      ]
    },
    {
      "cell_type": "code",
      "source": [
        ""
      ],
      "metadata": {
        "id": "okBaFXOHEhI2"
      },
      "execution_count": null,
      "outputs": []
    },
    {
      "cell_type": "code",
      "source": [
        ""
      ],
      "metadata": {
        "id": "yX5WEzf_0HTX"
      },
      "execution_count": null,
      "outputs": []
    },
    {
      "cell_type": "code",
      "source": [
        ""
      ],
      "metadata": {
        "id": "XxXbcKSVRpT-"
      },
      "execution_count": null,
      "outputs": []
    },
    {
      "cell_type": "code",
      "source": [
        ""
      ],
      "metadata": {
        "id": "7Yh5ybDyEhLl"
      },
      "execution_count": null,
      "outputs": []
    },
    {
      "cell_type": "code",
      "source": [
        ""
      ],
      "metadata": {
        "id": "Rvzh9RCBWfYk"
      },
      "execution_count": null,
      "outputs": []
    },
    {
      "cell_type": "code",
      "source": [
        ""
      ],
      "metadata": {
        "id": "wR-91nLKEhOS"
      },
      "execution_count": null,
      "outputs": []
    },
    {
      "cell_type": "code",
      "source": [
        ""
      ],
      "metadata": {
        "id": "1TquTaYIEhQ4"
      },
      "execution_count": null,
      "outputs": []
    },
    {
      "cell_type": "code",
      "source": [
        ""
      ],
      "metadata": {
        "id": "tTkD3Ic_EhSx"
      },
      "execution_count": null,
      "outputs": []
    },
    {
      "cell_type": "code",
      "source": [
        ""
      ],
      "metadata": {
        "id": "70BSS7JnEhVZ"
      },
      "execution_count": null,
      "outputs": []
    },
    {
      "cell_type": "code",
      "source": [
        ""
      ],
      "metadata": {
        "id": "zgztLuZCEhXs"
      },
      "execution_count": null,
      "outputs": []
    },
    {
      "cell_type": "code",
      "source": [
        ""
      ],
      "metadata": {
        "id": "WtwUrZIOEha3"
      },
      "execution_count": null,
      "outputs": []
    },
    {
      "cell_type": "code",
      "source": [
        ""
      ],
      "metadata": {
        "id": "4m7aq6h1Ehcp"
      },
      "execution_count": null,
      "outputs": []
    },
    {
      "cell_type": "code",
      "source": [
        ""
      ],
      "metadata": {
        "id": "8P061aMJEhe1"
      },
      "execution_count": null,
      "outputs": []
    },
    {
      "cell_type": "code",
      "source": [
        ""
      ],
      "metadata": {
        "id": "0pOWPvs-EhhI"
      },
      "execution_count": null,
      "outputs": []
    },
    {
      "cell_type": "code",
      "source": [
        ""
      ],
      "metadata": {
        "id": "LQbkm6SuEhkt"
      },
      "execution_count": null,
      "outputs": []
    },
    {
      "cell_type": "code",
      "source": [
        ""
      ],
      "metadata": {
        "id": "pvFwczPiEk28"
      },
      "execution_count": null,
      "outputs": []
    },
    {
      "cell_type": "code",
      "source": [
        ""
      ],
      "metadata": {
        "id": "VPiDdStuEmX3"
      },
      "execution_count": null,
      "outputs": []
    },
    {
      "cell_type": "code",
      "source": [
        ""
      ],
      "metadata": {
        "id": "nG1Gsv9FEmZ5"
      },
      "execution_count": null,
      "outputs": []
    },
    {
      "cell_type": "code",
      "source": [
        ""
      ],
      "metadata": {
        "id": "KAoDgkBIEmdz"
      },
      "execution_count": null,
      "outputs": []
    },
    {
      "cell_type": "code",
      "source": [
        ""
      ],
      "metadata": {
        "id": "QexykWFQEmgX"
      },
      "execution_count": null,
      "outputs": []
    },
    {
      "cell_type": "code",
      "source": [
        ""
      ],
      "metadata": {
        "id": "ZDphvOECEmjK"
      },
      "execution_count": null,
      "outputs": []
    },
    {
      "cell_type": "code",
      "source": [
        ""
      ],
      "metadata": {
        "id": "vWZKMJmkEmkv"
      },
      "execution_count": null,
      "outputs": []
    },
    {
      "cell_type": "code",
      "source": [
        ""
      ],
      "metadata": {
        "id": "jRUbn8ZoEmnU"
      },
      "execution_count": null,
      "outputs": []
    },
    {
      "cell_type": "code",
      "source": [
        ""
      ],
      "metadata": {
        "id": "J0DnaBTZEmpv"
      },
      "execution_count": null,
      "outputs": []
    },
    {
      "cell_type": "code",
      "source": [
        ""
      ],
      "metadata": {
        "id": "o3IFHCYuEmsE"
      },
      "execution_count": null,
      "outputs": []
    },
    {
      "cell_type": "code",
      "source": [
        ""
      ],
      "metadata": {
        "id": "nusMoaFkEmt_"
      },
      "execution_count": null,
      "outputs": []
    },
    {
      "cell_type": "code",
      "source": [
        ""
      ],
      "metadata": {
        "id": "r6Yk2E-jEmwd"
      },
      "execution_count": null,
      "outputs": []
    },
    {
      "cell_type": "code",
      "source": [
        ""
      ],
      "metadata": {
        "id": "Cz20c0ZkEmyi"
      },
      "execution_count": null,
      "outputs": []
    }
  ]
}