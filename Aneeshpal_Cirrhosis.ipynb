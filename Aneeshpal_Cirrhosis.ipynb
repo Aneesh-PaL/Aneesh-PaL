{
  "nbformat": 4,
  "nbformat_minor": 0,
  "metadata": {
    "colab": {
      "name": "Aneeshpal_Cirrhosis.ipynb",
      "provenance": [],
      "collapsed_sections": [],
      "authorship_tag": "ABX9TyOh9fQ0GnZBJ/ck5v4e+1zd",
      "include_colab_link": true
    },
    "kernelspec": {
      "name": "python3",
      "display_name": "Python 3"
    },
    "language_info": {
      "name": "python"
    }
  },
  "cells": [
    {
      "cell_type": "markdown",
      "metadata": {
        "id": "view-in-github",
        "colab_type": "text"
      },
      "source": [
        "<a href=\"https://colab.research.google.com/github/Aneesh-Pal/Aneesh-PaL/blob/main/Aneeshpal_Cirrhosis.ipynb\" target=\"_parent\"><img src=\"https://colab.research.google.com/assets/colab-badge.svg\" alt=\"Open In Colab\"/></a>"
      ]
    },
    {
      "cell_type": "code",
      "execution_count": 1,
      "metadata": {
        "colab": {
          "base_uri": "https://localhost:8080/"
        },
        "id": "UtDsyLnwEfSB",
        "outputId": "2ecfdbb4-bdcf-4320-adaf-48ae541c96bb"
      },
      "outputs": [
        {
          "output_type": "stream",
          "name": "stdout",
          "text": [
            "Collecting pyspark\n",
            "  Downloading pyspark-3.2.1.tar.gz (281.4 MB)\n",
            "\u001b[K     |████████████████████████████████| 281.4 MB 29 kB/s \n",
            "\u001b[?25hCollecting py4j==0.10.9.3\n",
            "  Downloading py4j-0.10.9.3-py2.py3-none-any.whl (198 kB)\n",
            "\u001b[K     |████████████████████████████████| 198 kB 52.8 MB/s \n",
            "\u001b[?25hBuilding wheels for collected packages: pyspark\n",
            "  Building wheel for pyspark (setup.py) ... \u001b[?25l\u001b[?25hdone\n",
            "  Created wheel for pyspark: filename=pyspark-3.2.1-py2.py3-none-any.whl size=281853642 sha256=aae382a56800bd6c99c63d030a3fef3f7e7b63fb2f7dd03f2f4cae32f525582e\n",
            "  Stored in directory: /root/.cache/pip/wheels/9f/f5/07/7cd8017084dce4e93e84e92efd1e1d5334db05f2e83bcef74f\n",
            "Successfully built pyspark\n",
            "Installing collected packages: py4j, pyspark\n",
            "Successfully installed py4j-0.10.9.3 pyspark-3.2.1\n"
          ]
        }
      ],
      "source": [
        "pip install pyspark"
      ]
    },
    {
      "cell_type": "code",
      "source": [
        "from pyspark.sql import SparkSession"
      ],
      "metadata": {
        "id": "Y4eNG_BKEgim"
      },
      "execution_count": 2,
      "outputs": []
    },
    {
      "cell_type": "code",
      "source": [
        "session=SparkSession.builder.appName(\"MyCode\").getOrCreate()"
      ],
      "metadata": {
        "id": "jvUScTJoEglF"
      },
      "execution_count": 3,
      "outputs": []
    },
    {
      "cell_type": "code",
      "source": [
        "df=session.read.csv(\"cirrhosis.csv\",header=True, inferSchema=True)"
      ],
      "metadata": {
        "id": "iAH24hwVEgnj"
      },
      "execution_count": 4,
      "outputs": []
    },
    {
      "cell_type": "code",
      "source": [
        "df.show(5)"
      ],
      "metadata": {
        "colab": {
          "base_uri": "https://localhost:8080/"
        },
        "id": "-cPSORnzEgqJ",
        "outputId": "29578e67-bf1d-4574-82f9-abb44041d950"
      },
      "execution_count": 6,
      "outputs": [
        {
          "output_type": "stream",
          "name": "stdout",
          "text": [
            "+---+------+------+---------------+-----+---+-------+------------+-------+-----+---------+-----------+-------+------+--------+------+-------------+---------+-----------+-----+\n",
            "| ID|N_Days|Status|           Drug|  Age|Sex|Ascites|Hepatomegaly|Spiders|Edema|Bilirubin|Cholesterol|Albumin|Copper|Alk_Phos|  SGOT|Tryglicerides|Platelets|Prothrombin|Stage|\n",
            "+---+------+------+---------------+-----+---+-------+------------+-------+-----+---------+-----------+-------+------+--------+------+-------------+---------+-----------+-----+\n",
            "|  1|   400|     D|D-penicillamine|21464|  F|      Y|           Y|      Y|    Y|     14.5|        261|    2.6|   156|    1718|137.95|          172|      190|       12.2|    4|\n",
            "|  2|  4500|     C|D-penicillamine|20617|  F|      N|           Y|      Y|    N|      1.1|        302|   4.14|    54|  7394.8|113.52|           88|      221|       10.6|    3|\n",
            "|  3|  1012|     D|D-penicillamine|25594|  M|      N|           N|      N|    S|      1.4|        176|   3.48|   210|     516|  96.1|           55|      151|         12|    4|\n",
            "|  4|  1925|     D|D-penicillamine|19994|  F|      N|           Y|      Y|    S|      1.8|        244|   2.54|    64|  6121.8| 60.63|           92|      183|       10.3|    4|\n",
            "|  5|  1504|    CL|        Placebo|13918|  F|      N|           Y|      Y|    N|      3.4|        279|   3.53|   143|     671|113.15|           72|      136|       10.9|    3|\n",
            "+---+------+------+---------------+-----+---+-------+------------+-------+-----+---------+-----------+-------+------+--------+------+-------------+---------+-----------+-----+\n",
            "only showing top 5 rows\n",
            "\n"
          ]
        }
      ]
    },
    {
      "cell_type": "code",
      "source": [
        "df.columns"
      ],
      "metadata": {
        "colab": {
          "base_uri": "https://localhost:8080/"
        },
        "id": "czZIowbfFgbx",
        "outputId": "5278a225-87ba-49d7-a7f1-0186ff2ac054"
      },
      "execution_count": 7,
      "outputs": [
        {
          "output_type": "execute_result",
          "data": {
            "text/plain": [
              "['ID',\n",
              " 'N_Days',\n",
              " 'Status',\n",
              " 'Drug',\n",
              " 'Age',\n",
              " 'Sex',\n",
              " 'Ascites',\n",
              " 'Hepatomegaly',\n",
              " 'Spiders',\n",
              " 'Edema',\n",
              " 'Bilirubin',\n",
              " 'Cholesterol',\n",
              " 'Albumin',\n",
              " 'Copper',\n",
              " 'Alk_Phos',\n",
              " 'SGOT',\n",
              " 'Tryglicerides',\n",
              " 'Platelets',\n",
              " 'Prothrombin',\n",
              " 'Stage']"
            ]
          },
          "metadata": {},
          "execution_count": 7
        }
      ]
    },
    {
      "cell_type": "code",
      "source": [
        "df.describe"
      ],
      "metadata": {
        "colab": {
          "base_uri": "https://localhost:8080/"
        },
        "id": "QcauLxOsFpJO",
        "outputId": "9f1063ea-4ab2-4e44-acf3-a68c9bddc153"
      },
      "execution_count": 9,
      "outputs": [
        {
          "output_type": "execute_result",
          "data": {
            "text/plain": [
              "<bound method DataFrame.describe of DataFrame[ID: int, N_Days: int, Status: string, Drug: string, Age: int, Sex: string, Ascites: string, Hepatomegaly: string, Spiders: string, Edema: string, Bilirubin: double, Cholesterol: string, Albumin: double, Copper: string, Alk_Phos: string, SGOT: string, Tryglicerides: string, Platelets: string, Prothrombin: string, Stage: string]>"
            ]
          },
          "metadata": {},
          "execution_count": 9
        }
      ]
    },
    {
      "cell_type": "code",
      "source": [
        "from pyspark.ml.feature import VectorAssembler, StringIndexer, OneHotEncoder"
      ],
      "metadata": {
        "id": "VxzGKp2xEgsx"
      },
      "execution_count": 8,
      "outputs": []
    },
    {
      "cell_type": "code",
      "source": [
        "str_idx=StringIndexer(inputCols=['Status','Drug','Sex','Ascites','Hepatomegaly','Spiders','Edema','Bilirubin','Albumin','Cholesterol','Alk_Phos','SGOT','Tryglicerides','Platelets','Prothrombin','Copper','Stage'],outputCols=['new_Status','new_Drug','new_Sex','new_Ascites','new_Hepatomegaly','new_Spiders','new_Edema','new_Bilirubin','new_Albumin','new_Cholesterol','new_Alk_Phos','new_SGOT','new_Tryglicerides','new_Platelets','new_Prothrombin','new_Copper','new_Stage'],handleInvalid=\"skip\")"
      ],
      "metadata": {
        "id": "1iedYhAsEgva"
      },
      "execution_count": 61,
      "outputs": []
    },
    {
      "cell_type": "code",
      "source": [
        "onehot=OneHotEncoder(inputCols=['new_Status','new_Drug','new_Sex','new_Ascites','new_Hepatomegaly','new_Spiders','new_Edema'],outputCols=['new_Status2','new_Drug2','new_Sex2','new_Ascites2','new_Hepatomegaly2','new_Spiders2','new_Edema2'])"
      ],
      "metadata": {
        "id": "3y3Z7bPDEgx4"
      },
      "execution_count": 62,
      "outputs": []
    },
    {
      "cell_type": "code",
      "source": [
        "vect=VectorAssembler(inputCols=['N_Days','new_Status2','new_Drug2','Age','new_Sex2','new_Ascites2','new_Hepatomegaly2','new_Spiders2','new_Edema2','new_Bilirubin','new_Cholesterol','new_Albumin','new_Copper','new_Alk_Phos','new_SGOT','new_Tryglicerides','new_Platelets','new_Prothrombin'],outputCol=\"allfeatures\")"
      ],
      "metadata": {
        "id": "jPpfQ-nAEg0U"
      },
      "execution_count": 63,
      "outputs": []
    },
    {
      "cell_type": "code",
      "source": [
        "from pyspark.ml.classification import LogisticRegression\n",
        "log_reg = LogisticRegression(featuresCol=\"allfeatures\", labelCol = \"new_Stage\")"
      ],
      "metadata": {
        "id": "1bZsx-wGI06e"
      },
      "execution_count": 68,
      "outputs": []
    },
    {
      "cell_type": "code",
      "source": [
        "from pyspark.ml import Pipeline\n",
        "mypipeline = Pipeline(stages = [str_idx, onehot, vect, log_reg])"
      ],
      "metadata": {
        "id": "m0317f5LEg22"
      },
      "execution_count": 69,
      "outputs": []
    },
    {
      "cell_type": "code",
      "source": [
        "training, test = df.randomSplit([0.8, 0.2])"
      ],
      "metadata": {
        "id": "afWm90PXEg5S"
      },
      "execution_count": 70,
      "outputs": []
    },
    {
      "cell_type": "code",
      "source": [
        "log_reg_model = mypipeline.fit(training)"
      ],
      "metadata": {
        "id": "m0-qJH4CEg76"
      },
      "execution_count": 71,
      "outputs": []
    },
    {
      "cell_type": "code",
      "source": [
        "result = log_reg_model.transform(test)"
      ],
      "metadata": {
        "id": "IB1jilt2Eg-h"
      },
      "execution_count": 72,
      "outputs": []
    },
    {
      "cell_type": "code",
      "source": [
        "result.show()"
      ],
      "metadata": {
        "colab": {
          "base_uri": "https://localhost:8080/"
        },
        "id": "pkhM6m1YEhBh",
        "outputId": "c9707a3b-3a5e-45fb-d06d-d246fa47605e"
      },
      "execution_count": 73,
      "outputs": [
        {
          "output_type": "stream",
          "name": "stdout",
          "text": [
            "+---+------+------+---------------+-----+---+-------+------------+-------+-----+---------+-----------+-------+------+--------+------+-------------+---------+-----------+-----+----------+--------+-------+-----------+----------------+-----------+---------+-------------+-----------+---------------+------------+--------+-----------------+-------------+---------------+----------+---------+-------------+-------------+-------------+-------------+-----------------+-------------+-------------+--------------------+--------------------+--------------------+----------+\n",
            "| ID|N_Days|Status|           Drug|  Age|Sex|Ascites|Hepatomegaly|Spiders|Edema|Bilirubin|Cholesterol|Albumin|Copper|Alk_Phos|  SGOT|Tryglicerides|Platelets|Prothrombin|Stage|new_Status|new_Drug|new_Sex|new_Ascites|new_Hepatomegaly|new_Spiders|new_Edema|new_Bilirubin|new_Albumin|new_Cholesterol|new_Alk_Phos|new_SGOT|new_Tryglicerides|new_Platelets|new_Prothrombin|new_Copper|new_Stage|  new_Status2|    new_Drug2|     new_Sex2| new_Ascites2|new_Hepatomegaly2| new_Spiders2|   new_Edema2|         allfeatures|       rawPrediction|         probability|prediction|\n",
            "+---+------+------+---------------+-----+---+-------+------------+-------+-----+---------+-----------+-------+------+--------+------+-------------+---------+-----------+-----+----------+--------+-------+-----------+----------------+-----------+---------+-------------+-----------+---------------+------------+--------+-----------------+-------------+---------------+----------+---------+-------------+-------------+-------------+-------------+-----------------+-------------+-------------+--------------------+--------------------+--------------------+----------+\n",
            "|  6|  2503|     D|        Placebo|24201|  F|      N|           Y|      N|    N|      0.8|        248|   3.98|    50|     944|    93|           63|       NA|         11|    3|       1.0|     0.0|    0.0|        0.0|             0.0|        0.0|      0.0|          3.0|       50.0|           20.0|       230.0|   149.0|            118.0|          0.0|            2.0|     128.0|      0.0|(2,[1],[1.0])|(2,[0],[1.0])|(1,[0],[1.0])|(2,[0],[1.0])|    (2,[0],[1.0])|(2,[0],[1.0])|(2,[0],[1.0])|[2503.0,0.0,1.0,1...|[7.28898395144119...|[0.44805805044420...|       0.0|\n",
            "|190|  2504|     C|D-penicillamine|19916|  F|      N|           N|      Y|    N|      2.3|         NA|   3.93|    24|    1828| 133.3|           NA|      327|       10.2|    2|       0.0|     1.0|    0.0|        0.0|             1.0|        2.0|      0.0|         14.0|       48.0|            0.0|        97.0|    34.0|              0.0|        158.0|           10.0|      15.0|      2.0|(2,[0],[1.0])|(2,[1],[1.0])|(1,[0],[1.0])|(2,[0],[1.0])|    (2,[1],[1.0])|    (2,[],[])|(2,[0],[1.0])|[2504.0,1.0,0.0,0...|[2.33441929193931...|[0.25235811404210...|       3.0|\n",
            "|211|  2195|     C|        Placebo|19327|  F|      N|           N|      N|    N|      1.3|         NA|   3.76|    27|    1282|100.75|           NA|      114|       10.3|    3|       0.0|     0.0|    0.0|        0.0|             1.0|        0.0|      0.0|          6.0|       11.0|            0.0|        50.0|    59.0|              0.0|         77.0|            7.0|     112.0|      0.0|(2,[0],[1.0])|(2,[0],[1.0])|(1,[0],[1.0])|(2,[0],[1.0])|    (2,[1],[1.0])|(2,[0],[1.0])|(2,[0],[1.0])|[2195.0,1.0,0.0,1...|[3.92464757124986...|[0.58464868767570...|       0.0|\n",
            "|315|  2844|     C|             NA|19724|  F|     NA|          NA|     NA|    N|      0.7|         NA|   4.03|    NA|      NA|    NA|           NA|      226|        9.8|    4|       0.0|     2.0|    0.0|        1.0|             2.0|        1.0|      0.0|          0.0|      128.0|            0.0|         0.0|     0.0|              0.0|         44.0|            5.0|       0.0|      1.0|(2,[0],[1.0])|    (2,[],[])|(1,[0],[1.0])|(2,[1],[1.0])|        (2,[],[])|(2,[1],[1.0])|(2,[0],[1.0])|(24,[0,1,5,6,8,12...|[1.37191535959215...|[0.43009851458953...|       0.0|\n",
            "|322|  2011|     D|             NA|23376|  F|     NA|          NA|     NA|    N|      1.1|         NA|   3.69|    NA|      NA|    NA|           NA|      139|       10.5|   NA|       1.0|     2.0|    0.0|        1.0|             2.0|        1.0|      0.0|          4.0|       71.0|            0.0|         0.0|     0.0|              0.0|         29.0|           13.0|       0.0|      4.0|(2,[1],[1.0])|    (2,[],[])|(1,[0],[1.0])|(2,[1],[1.0])|        (2,[],[])|(2,[1],[1.0])|(2,[0],[1.0])|(24,[0,2,5,6,8,12...|[0.88523576581924...|[0.29136998057719...|       1.0|\n",
            "|327|  4214|     C|             NA|17897|  F|     NA|          NA|     NA|    N|      1.2|         NA|   3.99|    NA|      NA|    NA|           NA|       NA|       11.2|    2|       0.0|     2.0|    0.0|        1.0|             2.0|        1.0|      0.0|          8.0|       51.0|            0.0|         0.0|     0.0|              0.0|          0.0|           15.0|       0.0|      2.0|(2,[0],[1.0])|    (2,[],[])|(1,[0],[1.0])|(2,[1],[1.0])|        (2,[],[])|(2,[1],[1.0])|(2,[0],[1.0])|(24,[0,1,5,6,8,12...|[0.86400512665798...|[0.30014448203565...|       2.0|\n",
            "|342|  3231|     C|             NA|18263|  F|     NA|          NA|     NA|    N|      0.9|         NA|   4.01|    NA|      NA|    NA|           NA|      244|       10.5|    3|       0.0|     2.0|    0.0|        1.0|             2.0|        1.0|      0.0|          7.0|      127.0|            0.0|         0.0|     0.0|              0.0|         49.0|           13.0|       0.0|      0.0|(2,[0],[1.0])|    (2,[],[])|(1,[0],[1.0])|(2,[1],[1.0])|        (2,[],[])|(2,[1],[1.0])|(2,[0],[1.0])|(24,[0,1,5,6,8,12...|[1.17222061084290...|[0.37491842150937...|       2.0|\n",
            "|349|  2855|     C|             NA|19724|  F|     NA|          NA|     NA|    N|      1.4|         NA|   3.82|    NA|      NA|    NA|           NA|      249|       10.3|    2|       0.0|     2.0|    0.0|        1.0|             2.0|        1.0|      0.0|         10.0|      122.0|            0.0|         0.0|     0.0|              0.0|        122.0|            7.0|       0.0|      2.0|(2,[0],[1.0])|    (2,[],[])|(1,[0],[1.0])|(2,[1],[1.0])|        (2,[],[])|(2,[1],[1.0])|(2,[0],[1.0])|(24,[0,1,5,6,8,12...|[0.86508067865895...|[0.35584387452583...|       0.0|\n",
            "|373|  2103|     C|             NA|22646|  F|     NA|          NA|     NA|    N|      0.7|         NA|   3.29|    NA|      NA|    NA|           NA|      190|        9.8|    2|       0.0|     2.0|    0.0|        1.0|             2.0|        1.0|      0.0|          0.0|       66.0|            0.0|         0.0|     0.0|              0.0|         36.0|            5.0|       0.0|      2.0|(2,[0],[1.0])|    (2,[],[])|(1,[0],[1.0])|(2,[1],[1.0])|        (2,[],[])|(2,[1],[1.0])|(2,[0],[1.0])|(24,[0,1,5,6,8,12...|[1.44463818646120...|[0.41718948435408...|       0.0|\n",
            "|388|  1560|     C|             NA|14610|  F|     NA|          NA|     NA|    N|      0.9|         NA|    3.5|    NA|      NA|    NA|           NA|      117|       10.9|    4|       0.0|     2.0|    0.0|        1.0|             2.0|        1.0|      0.0|          7.0|        3.0|            0.0|         0.0|     0.0|              0.0|         78.0|           16.0|       0.0|      1.0|(2,[0],[1.0])|    (2,[],[])|(1,[0],[1.0])|(2,[1],[1.0])|        (2,[],[])|(2,[1],[1.0])|(2,[0],[1.0])|(24,[0,1,5,6,8,12...|[1.21977587042554...|[0.31755693631953...|       0.0|\n",
            "|393|   193|     D|             NA|18993|  F|     NA|          NA|     NA|    S|      0.7|         NA|   2.96|    NA|      NA|    NA|           NA|      319|        9.9|    4|       1.0|     2.0|    0.0|        1.0|             2.0|        1.0|      1.0|          0.0|      105.0|            0.0|         0.0|     0.0|              0.0|        154.0|            3.0|       0.0|      1.0|(2,[1],[1.0])|    (2,[],[])|(1,[0],[1.0])|(2,[1],[1.0])|        (2,[],[])|(2,[1],[1.0])|(2,[1],[1.0])|(24,[0,2,5,6,8,12...|[3.74471789905506...|[0.45357987424046...|       0.0|\n",
            "|402|   943|     C|             NA|18993|  F|     NA|          NA|     NA|    N|      0.8|         NA|   3.01|    NA|      NA|    NA|           NA|      256|       10.6|    3|       0.0|     2.0|    0.0|        1.0|             2.0|        1.0|      0.0|          3.0|       30.0|            0.0|         0.0|     0.0|              0.0|        123.0|            0.0|       0.0|      0.0|(2,[0],[1.0])|    (2,[],[])|(1,[0],[1.0])|(2,[1],[1.0])|        (2,[],[])|(2,[1],[1.0])|(2,[0],[1.0])|(24,[0,1,5,6,8,12...|[1.28851778252150...|[0.42052652137527...|       0.0|\n",
            "|416|  1055|     C|             NA|20819|  F|     NA|          NA|     NA|    N|      1.6|         NA|   3.42|    NA|      NA|    NA|           NA|      143|        9.9|    3|       0.0|     2.0|    0.0|        1.0|             2.0|        1.0|      0.0|         12.0|       19.0|            0.0|         0.0|     0.0|              0.0|         88.0|            3.0|       0.0|      0.0|(2,[0],[1.0])|    (2,[],[])|(1,[0],[1.0])|(2,[1],[1.0])|        (2,[],[])|(2,[1],[1.0])|(2,[0],[1.0])|(24,[0,1,5,6,8,12...|[1.37124913151137...|[0.39497831493928...|       0.0|\n",
            "+---+------+------+---------------+-----+---+-------+------------+-------+-----+---------+-----------+-------+------+--------+------+-------------+---------+-----------+-----+----------+--------+-------+-----------+----------------+-----------+---------+-------------+-----------+---------------+------------+--------+-----------------+-------------+---------------+----------+---------+-------------+-------------+-------------+-------------+-----------------+-------------+-------------+--------------------+--------------------+--------------------+----------+\n",
            "\n"
          ]
        }
      ]
    },
    {
      "cell_type": "code",
      "source": [
        "from pyspark.ml.evaluation import BinaryClassificationEvaluator\n",
        "eval = BinaryClassificationEvaluator(rawPredictionCol=\"prediction\", labelCol = \"new_Stage\")"
      ],
      "metadata": {
        "id": "IfKMtqgXEhDq"
      },
      "execution_count": 76,
      "outputs": []
    },
    {
      "cell_type": "code",
      "source": [
        "eval.evaluate(result)"
      ],
      "metadata": {
        "colab": {
          "base_uri": "https://localhost:8080/"
        },
        "id": "LHLr7ILDEhGR",
        "outputId": "e9ece6cb-d1b4-46b5-af06-fd6fe20aa378"
      },
      "execution_count": 77,
      "outputs": [
        {
          "output_type": "execute_result",
          "data": {
            "text/plain": [
              "0.5875"
            ]
          },
          "metadata": {},
          "execution_count": 77
        }
      ]
    },
    {
      "cell_type": "code",
      "source": [
        ""
      ],
      "metadata": {
        "id": "okBaFXOHEhI2"
      },
      "execution_count": null,
      "outputs": []
    },
    {
      "cell_type": "code",
      "source": [
        ""
      ],
      "metadata": {
        "id": "XxXbcKSVRpT-"
      },
      "execution_count": null,
      "outputs": []
    },
    {
      "cell_type": "code",
      "source": [
        ""
      ],
      "metadata": {
        "id": "7Yh5ybDyEhLl"
      },
      "execution_count": null,
      "outputs": []
    },
    {
      "cell_type": "code",
      "source": [
        ""
      ],
      "metadata": {
        "id": "wR-91nLKEhOS"
      },
      "execution_count": null,
      "outputs": []
    },
    {
      "cell_type": "code",
      "source": [
        ""
      ],
      "metadata": {
        "id": "1TquTaYIEhQ4"
      },
      "execution_count": null,
      "outputs": []
    },
    {
      "cell_type": "code",
      "source": [
        ""
      ],
      "metadata": {
        "id": "tTkD3Ic_EhSx"
      },
      "execution_count": null,
      "outputs": []
    },
    {
      "cell_type": "code",
      "source": [
        ""
      ],
      "metadata": {
        "id": "70BSS7JnEhVZ"
      },
      "execution_count": null,
      "outputs": []
    },
    {
      "cell_type": "code",
      "source": [
        ""
      ],
      "metadata": {
        "id": "zgztLuZCEhXs"
      },
      "execution_count": null,
      "outputs": []
    },
    {
      "cell_type": "code",
      "source": [
        ""
      ],
      "metadata": {
        "id": "WtwUrZIOEha3"
      },
      "execution_count": null,
      "outputs": []
    },
    {
      "cell_type": "code",
      "source": [
        ""
      ],
      "metadata": {
        "id": "4m7aq6h1Ehcp"
      },
      "execution_count": null,
      "outputs": []
    },
    {
      "cell_type": "code",
      "source": [
        ""
      ],
      "metadata": {
        "id": "8P061aMJEhe1"
      },
      "execution_count": null,
      "outputs": []
    },
    {
      "cell_type": "code",
      "source": [
        ""
      ],
      "metadata": {
        "id": "0pOWPvs-EhhI"
      },
      "execution_count": null,
      "outputs": []
    },
    {
      "cell_type": "code",
      "source": [
        ""
      ],
      "metadata": {
        "id": "LQbkm6SuEhkt"
      },
      "execution_count": null,
      "outputs": []
    },
    {
      "cell_type": "code",
      "source": [
        ""
      ],
      "metadata": {
        "id": "pvFwczPiEk28"
      },
      "execution_count": null,
      "outputs": []
    },
    {
      "cell_type": "code",
      "source": [
        ""
      ],
      "metadata": {
        "id": "VPiDdStuEmX3"
      },
      "execution_count": null,
      "outputs": []
    },
    {
      "cell_type": "code",
      "source": [
        ""
      ],
      "metadata": {
        "id": "nG1Gsv9FEmZ5"
      },
      "execution_count": null,
      "outputs": []
    },
    {
      "cell_type": "code",
      "source": [
        ""
      ],
      "metadata": {
        "id": "KAoDgkBIEmdz"
      },
      "execution_count": null,
      "outputs": []
    },
    {
      "cell_type": "code",
      "source": [
        ""
      ],
      "metadata": {
        "id": "QexykWFQEmgX"
      },
      "execution_count": null,
      "outputs": []
    },
    {
      "cell_type": "code",
      "source": [
        ""
      ],
      "metadata": {
        "id": "ZDphvOECEmjK"
      },
      "execution_count": null,
      "outputs": []
    },
    {
      "cell_type": "code",
      "source": [
        ""
      ],
      "metadata": {
        "id": "vWZKMJmkEmkv"
      },
      "execution_count": null,
      "outputs": []
    },
    {
      "cell_type": "code",
      "source": [
        ""
      ],
      "metadata": {
        "id": "jRUbn8ZoEmnU"
      },
      "execution_count": null,
      "outputs": []
    },
    {
      "cell_type": "code",
      "source": [
        ""
      ],
      "metadata": {
        "id": "J0DnaBTZEmpv"
      },
      "execution_count": null,
      "outputs": []
    },
    {
      "cell_type": "code",
      "source": [
        ""
      ],
      "metadata": {
        "id": "o3IFHCYuEmsE"
      },
      "execution_count": null,
      "outputs": []
    },
    {
      "cell_type": "code",
      "source": [
        ""
      ],
      "metadata": {
        "id": "nusMoaFkEmt_"
      },
      "execution_count": null,
      "outputs": []
    },
    {
      "cell_type": "code",
      "source": [
        ""
      ],
      "metadata": {
        "id": "r6Yk2E-jEmwd"
      },
      "execution_count": null,
      "outputs": []
    },
    {
      "cell_type": "code",
      "source": [
        ""
      ],
      "metadata": {
        "id": "Cz20c0ZkEmyi"
      },
      "execution_count": null,
      "outputs": []
    }
  ]
}