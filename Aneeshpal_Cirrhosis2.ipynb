{
  "nbformat": 4,
  "nbformat_minor": 0,
  "metadata": {
    "colab": {
      "name": "Aneeshpal_Cirrhosis2.ipynb",
      "provenance": [],
      "collapsed_sections": [],
      "authorship_tag": "ABX9TyNWTYXv+hf3+FzAYfVFc8mn",
      "include_colab_link": true
    },
    "kernelspec": {
      "name": "python3",
      "display_name": "Python 3"
    },
    "language_info": {
      "name": "python"
    }
  },
  "cells": [
    {
      "cell_type": "markdown",
      "metadata": {
        "id": "view-in-github",
        "colab_type": "text"
      },
      "source": [
        "<a href=\"https://colab.research.google.com/github/Aneesh-Pal/Aneesh-PaL/blob/main/Aneeshpal_Cirrhosis2.ipynb\" target=\"_parent\"><img src=\"https://colab.research.google.com/assets/colab-badge.svg\" alt=\"Open In Colab\"/></a>"
      ]
    },
    {
      "cell_type": "code",
      "execution_count": 78,
      "metadata": {
        "colab": {
          "base_uri": "https://localhost:8080/"
        },
        "id": "UtDsyLnwEfSB",
        "outputId": "07cbb2ad-a468-4a31-dc2b-477efbfc9255"
      },
      "outputs": [
        {
          "output_type": "stream",
          "name": "stdout",
          "text": [
            "Requirement already satisfied: pyspark in /usr/local/lib/python3.7/dist-packages (3.2.1)\n",
            "Requirement already satisfied: py4j==0.10.9.3 in /usr/local/lib/python3.7/dist-packages (from pyspark) (0.10.9.3)\n"
          ]
        }
      ],
      "source": [
        "pip install pyspark"
      ]
    },
    {
      "cell_type": "code",
      "source": [
        "from pyspark.sql import SparkSession"
      ],
      "metadata": {
        "id": "Y4eNG_BKEgim"
      },
      "execution_count": 79,
      "outputs": []
    },
    {
      "cell_type": "code",
      "source": [
        "session=SparkSession.builder.appName(\"MyCode\").getOrCreate()"
      ],
      "metadata": {
        "id": "jvUScTJoEglF"
      },
      "execution_count": 83,
      "outputs": []
    },
    {
      "cell_type": "code",
      "source": [
        "df=session.read.csv(\"cirrhosis.csv\",header=True, inferSchema=True)"
      ],
      "metadata": {
        "id": "iAH24hwVEgnj"
      },
      "execution_count": 101,
      "outputs": []
    },
    {
      "cell_type": "code",
      "source": [
        "df.show(5)"
      ],
      "metadata": {
        "colab": {
          "base_uri": "https://localhost:8080/"
        },
        "id": "-cPSORnzEgqJ",
        "outputId": "09ad5b62-5d34-41a8-98a4-554ecae3a235"
      },
      "execution_count": 102,
      "outputs": [
        {
          "output_type": "stream",
          "name": "stdout",
          "text": [
            "+---+------+------+---------------+-----+---+-------+------------+-------+-----+---------+-----------+-------+------+--------+------+-------------+---------+-----------+-----+\n",
            "| ID|N_Days|Status|           Drug|  Age|Sex|Ascites|Hepatomegaly|Spiders|Edema|Bilirubin|Cholesterol|Albumin|Copper|Alk_Phos|  SGOT|Tryglicerides|Platelets|Prothrombin|Stage|\n",
            "+---+------+------+---------------+-----+---+-------+------------+-------+-----+---------+-----------+-------+------+--------+------+-------------+---------+-----------+-----+\n",
            "|  1|   400|     D|D-penicillamine|21464|  F|      Y|           Y|      Y|    Y|     14.5|        261|    2.6|   156|    1718|137.95|          172|      190|       12.2|    4|\n",
            "|  2|  4500|     C|D-penicillamine|20617|  F|      N|           Y|      Y|    N|      1.1|        302|   4.14|    54|  7394.8|113.52|           88|      221|       10.6|    3|\n",
            "|  3|  1012|     D|D-penicillamine|25594|  M|      N|           N|      N|    S|      1.4|        176|   3.48|   210|     516|  96.1|           55|      151|         12|    4|\n",
            "|  4|  1925|     D|D-penicillamine|19994|  F|      N|           Y|      Y|    S|      1.8|        244|   2.54|    64|  6121.8| 60.63|           92|      183|       10.3|    4|\n",
            "|  5|  1504|    CL|        Placebo|13918|  F|      N|           Y|      Y|    N|      3.4|        279|   3.53|   143|     671|113.15|           72|      136|       10.9|    3|\n",
            "+---+------+------+---------------+-----+---+-------+------------+-------+-----+---------+-----------+-------+------+--------+------+-------------+---------+-----------+-----+\n",
            "only showing top 5 rows\n",
            "\n"
          ]
        }
      ]
    },
    {
      "cell_type": "code",
      "source": [
        "df.columns"
      ],
      "metadata": {
        "colab": {
          "base_uri": "https://localhost:8080/"
        },
        "id": "czZIowbfFgbx",
        "outputId": "353b60a6-ca8f-4e6c-9fec-7828983fed34"
      },
      "execution_count": 103,
      "outputs": [
        {
          "output_type": "execute_result",
          "data": {
            "text/plain": [
              "['ID',\n",
              " 'N_Days',\n",
              " 'Status',\n",
              " 'Drug',\n",
              " 'Age',\n",
              " 'Sex',\n",
              " 'Ascites',\n",
              " 'Hepatomegaly',\n",
              " 'Spiders',\n",
              " 'Edema',\n",
              " 'Bilirubin',\n",
              " 'Cholesterol',\n",
              " 'Albumin',\n",
              " 'Copper',\n",
              " 'Alk_Phos',\n",
              " 'SGOT',\n",
              " 'Tryglicerides',\n",
              " 'Platelets',\n",
              " 'Prothrombin',\n",
              " 'Stage']"
            ]
          },
          "metadata": {},
          "execution_count": 103
        }
      ]
    },
    {
      "cell_type": "code",
      "source": [
        "df.describe"
      ],
      "metadata": {
        "colab": {
          "base_uri": "https://localhost:8080/"
        },
        "id": "QcauLxOsFpJO",
        "outputId": "6e1bb780-a5be-4b5d-c797-498960e4f0a5"
      },
      "execution_count": 104,
      "outputs": [
        {
          "output_type": "execute_result",
          "data": {
            "text/plain": [
              "<bound method DataFrame.describe of DataFrame[ID: int, N_Days: int, Status: string, Drug: string, Age: int, Sex: string, Ascites: string, Hepatomegaly: string, Spiders: string, Edema: string, Bilirubin: double, Cholesterol: string, Albumin: double, Copper: string, Alk_Phos: string, SGOT: string, Tryglicerides: string, Platelets: string, Prothrombin: string, Stage: string]>"
            ]
          },
          "metadata": {},
          "execution_count": 104
        }
      ]
    },
    {
      "cell_type": "code",
      "source": [
        "from pyspark.ml.feature import VectorAssembler, StringIndexer, OneHotEncoder"
      ],
      "metadata": {
        "id": "VxzGKp2xEgsx"
      },
      "execution_count": 105,
      "outputs": []
    },
    {
      "cell_type": "code",
      "source": [
        "str_idx=StringIndexer(inputCols=['Status','Drug','Sex','Ascites','Hepatomegaly','Spiders','Edema','Bilirubin','Albumin','Cholesterol','Alk_Phos','SGOT','Tryglicerides','Platelets','Prothrombin','Copper','Stage'],outputCols=['new_Status','new_Drug','new_Sex','new_Ascites','new_Hepatomegaly','new_Spiders','new_Edema','new_Bilirubin','new_Albumin','new_Cholesterol','new_Alk_Phos','new_SGOT','new_Tryglicerides','new_Platelets','new_Prothrombin','new_Copper','new_Stage'],handleInvalid=\"skip\")"
      ],
      "metadata": {
        "id": "1iedYhAsEgva"
      },
      "execution_count": 106,
      "outputs": []
    },
    {
      "cell_type": "code",
      "source": [
        "onehot=OneHotEncoder(inputCols=['new_Status','new_Drug','new_Sex','new_Ascites','new_Hepatomegaly','new_Spiders','new_Edema'],outputCols=['new_Status2','new_Drug2','new_Sex2','new_Ascites2','new_Hepatomegaly2','new_Spiders2','new_Edema2'])"
      ],
      "metadata": {
        "id": "3y3Z7bPDEgx4"
      },
      "execution_count": 107,
      "outputs": []
    },
    {
      "cell_type": "code",
      "source": [
        "vect=VectorAssembler(inputCols=['N_Days','new_Status2','new_Drug2','Age','new_Sex2','new_Ascites2','new_Hepatomegaly2','new_Spiders2','new_Edema2','new_Bilirubin','new_Cholesterol','new_Albumin','new_Copper','new_Alk_Phos','new_SGOT','new_Tryglicerides','new_Platelets','new_Prothrombin'],outputCol=\"allfeatures\")"
      ],
      "metadata": {
        "id": "jPpfQ-nAEg0U"
      },
      "execution_count": 108,
      "outputs": []
    },
    {
      "cell_type": "code",
      "source": [
        "from pyspark.ml.classification import LogisticRegression\n",
        "log_reg = LogisticRegression(featuresCol=\"allfeatures\", labelCol = \"new_Stage\")"
      ],
      "metadata": {
        "id": "1bZsx-wGI06e"
      },
      "execution_count": 109,
      "outputs": []
    },
    {
      "cell_type": "code",
      "source": [
        "from pyspark.ml import Pipeline\n",
        "mypipeline = Pipeline(stages = [str_idx, onehot, vect, log_reg])"
      ],
      "metadata": {
        "id": "m0317f5LEg22"
      },
      "execution_count": 110,
      "outputs": []
    },
    {
      "cell_type": "code",
      "source": [
        "training, test = df.randomSplit([0.8, 0.2])"
      ],
      "metadata": {
        "id": "afWm90PXEg5S"
      },
      "execution_count": 111,
      "outputs": []
    },
    {
      "cell_type": "code",
      "source": [
        "log_reg_model = mypipeline.fit(training)"
      ],
      "metadata": {
        "id": "m0-qJH4CEg76"
      },
      "execution_count": 112,
      "outputs": []
    },
    {
      "cell_type": "code",
      "source": [
        "result = log_reg_model.transform(test)"
      ],
      "metadata": {
        "id": "IB1jilt2Eg-h"
      },
      "execution_count": 113,
      "outputs": []
    },
    {
      "cell_type": "code",
      "source": [
        "result.show()"
      ],
      "metadata": {
        "colab": {
          "base_uri": "https://localhost:8080/"
        },
        "id": "pkhM6m1YEhBh",
        "outputId": "bb4c4127-fcf1-430c-d4d5-d6d60e07c19c"
      },
      "execution_count": 114,
      "outputs": [
        {
          "output_type": "stream",
          "name": "stdout",
          "text": [
            "+---+------+------+----+-----+---+-------+------------+-------+-----+---------+-----------+-------+------+--------+----+-------------+---------+-----------+-----+----------+--------+-------+-----------+----------------+-----------+---------+-------------+-----------+---------------+------------+--------+-----------------+-------------+---------------+----------+---------+-------------+---------+-------------+-------------+-----------------+-------------+-------------+--------------------+--------------------+--------------------+----------+\n",
            "| ID|N_Days|Status|Drug|  Age|Sex|Ascites|Hepatomegaly|Spiders|Edema|Bilirubin|Cholesterol|Albumin|Copper|Alk_Phos|SGOT|Tryglicerides|Platelets|Prothrombin|Stage|new_Status|new_Drug|new_Sex|new_Ascites|new_Hepatomegaly|new_Spiders|new_Edema|new_Bilirubin|new_Albumin|new_Cholesterol|new_Alk_Phos|new_SGOT|new_Tryglicerides|new_Platelets|new_Prothrombin|new_Copper|new_Stage|  new_Status2|new_Drug2|     new_Sex2| new_Ascites2|new_Hepatomegaly2| new_Spiders2|   new_Edema2|         allfeatures|       rawPrediction|         probability|prediction|\n",
            "+---+------+------+----+-----+---+-------+------------+-------+-----+---------+-----------+-------+------+--------+----+-------------+---------+-----------+-----+----------+--------+-------+-----------+----------------+-----------+---------+-------------+-----------+---------------+------------+--------+-----------------+-------------+---------------+----------+---------+-------------+---------+-------------+-------------+-----------------+-------------+-------------+--------------------+--------------------+--------------------+----------+\n",
            "|318|  1680|     C|  NA|15706|  F|     NA|          NA|     NA|    N|      0.7|         NA|   3.68|    NA|      NA|  NA|           NA|      306|        9.5|    2|       0.0|     2.0|    0.0|        1.0|             2.0|        1.0|      0.0|          0.0|      117.0|            0.0|         0.0|     0.0|              0.0|        149.0|           24.0|       0.0|      2.0|(2,[0],[1.0])|(2,[],[])|(1,[0],[1.0])|(2,[1],[1.0])|        (2,[],[])|(2,[1],[1.0])|(2,[0],[1.0])|(24,[0,1,5,6,8,12...|[2.76338100154658...|[0.46204743940135...|       0.0|\n",
            "|331|    94|     D|  NA|16802|  F|     NA|          NA|     NA|    S|      3.1|         NA|   3.56|    NA|      NA|  NA|           NA|      142|       13.6|    4|       1.0|     2.0|    0.0|        1.0|             2.0|        1.0|      1.0|         70.0|        9.0|            0.0|         0.0|     0.0|              0.0|         25.0|           37.0|       0.0|      1.0|(2,[1],[1.0])|(2,[],[])|(1,[0],[1.0])|(2,[1],[1.0])|        (2,[],[])|(2,[1],[1.0])|(2,[1],[1.0])|(24,[0,2,5,6,8,12...|[4.18707049846396...|[0.18662030154149...|       1.0|\n",
            "|342|  3231|     C|  NA|18263|  F|     NA|          NA|     NA|    N|      0.9|         NA|   4.01|    NA|      NA|  NA|           NA|      244|       10.5|    3|       0.0|     2.0|    0.0|        1.0|             2.0|        1.0|      0.0|          6.0|      127.0|            0.0|         0.0|     0.0|              0.0|         49.0|           12.0|       0.0|      0.0|(2,[0],[1.0])|(2,[],[])|(1,[0],[1.0])|(2,[1],[1.0])|        (2,[],[])|(2,[1],[1.0])|(2,[0],[1.0])|(24,[0,1,5,6,8,12...|[2.71668876542141...|[0.41343231459444...|       2.0|\n",
            "|355|  2338|     C|  NA|14245|  F|     NA|          NA|     NA|    N|      1.6|         NA|   3.75|    NA|      NA|  NA|           NA|      145|       10.4|    3|       0.0|     2.0|    0.0|        1.0|             2.0|        1.0|      0.0|         14.0|      119.0|            0.0|         0.0|     0.0|              0.0|         95.0|           11.0|       0.0|      0.0|(2,[0],[1.0])|(2,[],[])|(1,[0],[1.0])|(2,[1],[1.0])|        (2,[],[])|(2,[1],[1.0])|(2,[0],[1.0])|(24,[0,1,5,6,8,12...|[2.56890798759352...|[0.48727363899010...|       0.0|\n",
            "|367|  2202|     C|  NA|23376|  F|     NA|          NA|     NA|    N|      1.1|         NA|   3.49|    NA|      NA|  NA|           NA|      166|        9.8|    3|       0.0|     2.0|    0.0|        1.0|             2.0|        1.0|      0.0|          4.0|       69.0|            0.0|         0.0|     0.0|              0.0|         33.0|            3.0|       0.0|      0.0|(2,[0],[1.0])|(2,[],[])|(1,[0],[1.0])|(2,[1],[1.0])|        (2,[],[])|(2,[1],[1.0])|(2,[0],[1.0])|(24,[0,1,5,6,8,12...|[2.85000212810733...|[0.38745044404562...|       0.0|\n",
            "|373|  2103|     C|  NA|22646|  F|     NA|          NA|     NA|    N|      0.7|         NA|   3.29|    NA|      NA|  NA|           NA|      190|        9.8|    2|       0.0|     2.0|    0.0|        1.0|             2.0|        1.0|      0.0|          0.0|      109.0|            0.0|         0.0|     0.0|              0.0|         37.0|            3.0|       0.0|      2.0|(2,[0],[1.0])|(2,[],[])|(1,[0],[1.0])|(2,[1],[1.0])|        (2,[],[])|(2,[1],[1.0])|(2,[0],[1.0])|(24,[0,1,5,6,8,12...|[3.29413005715338...|[0.45364096989300...|       0.0|\n",
            "|384|  1639|     C|  NA|21550|  F|     NA|          NA|     NA|    N|      1.3|         NA|    3.4|    NA|      NA|  NA|           NA|      243|        9.7|    1|       0.0|     2.0|    0.0|        1.0|             2.0|        1.0|      0.0|          7.0|        6.0|            0.0|         0.0|     0.0|              0.0|        126.0|           17.0|       0.0|      3.0|(2,[0],[1.0])|(2,[],[])|(1,[0],[1.0])|(2,[1],[1.0])|        (2,[],[])|(2,[1],[1.0])|(2,[0],[1.0])|(24,[0,1,5,6,8,12...|[1.83448464904251...|[0.25297200386279...|       1.0|\n",
            "|402|   943|     C|  NA|18993|  F|     NA|          NA|     NA|    N|      0.8|         NA|   3.01|    NA|      NA|  NA|           NA|      256|       10.6|    3|       0.0|     2.0|    0.0|        1.0|             2.0|        1.0|      0.0|          3.0|       34.0|            0.0|         0.0|     0.0|              0.0|         17.0|            0.0|       0.0|      0.0|(2,[0],[1.0])|(2,[],[])|(1,[0],[1.0])|(2,[1],[1.0])|        (2,[],[])|(2,[1],[1.0])|(2,[0],[1.0])|(24,[0,1,5,6,8,12...|[3.13056999498590...|[0.40569171803395...|       0.0|\n",
            "|409|  1067|     C|  NA|15706|  F|     NA|          NA|     NA|    N|      0.7|         NA|   3.73|    NA|      NA|  NA|           NA|      214|       10.8|    3|       0.0|     2.0|    0.0|        1.0|             2.0|        1.0|      0.0|          0.0|       71.0|            0.0|         0.0|     0.0|              0.0|         43.0|            6.0|       0.0|      0.0|(2,[0],[1.0])|(2,[],[])|(1,[0],[1.0])|(2,[1],[1.0])|        (2,[],[])|(2,[1],[1.0])|(2,[0],[1.0])|(24,[0,1,5,6,8,12...|[3.22188369820829...|[0.51250460044744...|       0.0|\n",
            "+---+------+------+----+-----+---+-------+------------+-------+-----+---------+-----------+-------+------+--------+----+-------------+---------+-----------+-----+----------+--------+-------+-----------+----------------+-----------+---------+-------------+-----------+---------------+------------+--------+-----------------+-------------+---------------+----------+---------+-------------+---------+-------------+-------------+-----------------+-------------+-------------+--------------------+--------------------+--------------------+----------+\n",
            "\n"
          ]
        }
      ]
    },
    {
      "cell_type": "code",
      "source": [
        "from pyspark.ml.evaluation import BinaryClassificationEvaluator\n",
        "eval = BinaryClassificationEvaluator(rawPredictionCol=\"prediction\", labelCol = \"new_Stage\")"
      ],
      "metadata": {
        "id": "IfKMtqgXEhDq"
      },
      "execution_count": 115,
      "outputs": []
    },
    {
      "cell_type": "code",
      "source": [
        "eval.evaluate(result)"
      ],
      "metadata": {
        "colab": {
          "base_uri": "https://localhost:8080/"
        },
        "id": "LHLr7ILDEhGR",
        "outputId": "532d9281-79a4-479b-c53b-1599d9ecdcab"
      },
      "execution_count": 116,
      "outputs": [
        {
          "output_type": "execute_result",
          "data": {
            "text/plain": [
              "0.6000000000000001"
            ]
          },
          "metadata": {},
          "execution_count": 116
        }
      ]
    },
    {
      "cell_type": "code",
      "source": [
        ""
      ],
      "metadata": {
        "id": "okBaFXOHEhI2"
      },
      "execution_count": 116,
      "outputs": []
    },
    {
      "cell_type": "code",
      "source": [
        ""
      ],
      "metadata": {
        "id": "XxXbcKSVRpT-"
      },
      "execution_count": 116,
      "outputs": []
    },
    {
      "cell_type": "code",
      "source": [
        ""
      ],
      "metadata": {
        "id": "7Yh5ybDyEhLl"
      },
      "execution_count": null,
      "outputs": []
    },
    {
      "cell_type": "code",
      "source": [
        ""
      ],
      "metadata": {
        "id": "Rvzh9RCBWfYk"
      },
      "execution_count": null,
      "outputs": []
    },
    {
      "cell_type": "code",
      "source": [
        ""
      ],
      "metadata": {
        "id": "wR-91nLKEhOS"
      },
      "execution_count": null,
      "outputs": []
    },
    {
      "cell_type": "code",
      "source": [
        ""
      ],
      "metadata": {
        "id": "1TquTaYIEhQ4"
      },
      "execution_count": null,
      "outputs": []
    },
    {
      "cell_type": "code",
      "source": [
        ""
      ],
      "metadata": {
        "id": "tTkD3Ic_EhSx"
      },
      "execution_count": null,
      "outputs": []
    },
    {
      "cell_type": "code",
      "source": [
        ""
      ],
      "metadata": {
        "id": "70BSS7JnEhVZ"
      },
      "execution_count": null,
      "outputs": []
    },
    {
      "cell_type": "code",
      "source": [
        ""
      ],
      "metadata": {
        "id": "zgztLuZCEhXs"
      },
      "execution_count": null,
      "outputs": []
    },
    {
      "cell_type": "code",
      "source": [
        ""
      ],
      "metadata": {
        "id": "WtwUrZIOEha3"
      },
      "execution_count": null,
      "outputs": []
    },
    {
      "cell_type": "code",
      "source": [
        ""
      ],
      "metadata": {
        "id": "4m7aq6h1Ehcp"
      },
      "execution_count": null,
      "outputs": []
    },
    {
      "cell_type": "code",
      "source": [
        ""
      ],
      "metadata": {
        "id": "8P061aMJEhe1"
      },
      "execution_count": null,
      "outputs": []
    },
    {
      "cell_type": "code",
      "source": [
        ""
      ],
      "metadata": {
        "id": "0pOWPvs-EhhI"
      },
      "execution_count": null,
      "outputs": []
    },
    {
      "cell_type": "code",
      "source": [
        ""
      ],
      "metadata": {
        "id": "LQbkm6SuEhkt"
      },
      "execution_count": null,
      "outputs": []
    },
    {
      "cell_type": "code",
      "source": [
        ""
      ],
      "metadata": {
        "id": "pvFwczPiEk28"
      },
      "execution_count": null,
      "outputs": []
    },
    {
      "cell_type": "code",
      "source": [
        ""
      ],
      "metadata": {
        "id": "VPiDdStuEmX3"
      },
      "execution_count": null,
      "outputs": []
    },
    {
      "cell_type": "code",
      "source": [
        ""
      ],
      "metadata": {
        "id": "nG1Gsv9FEmZ5"
      },
      "execution_count": null,
      "outputs": []
    },
    {
      "cell_type": "code",
      "source": [
        ""
      ],
      "metadata": {
        "id": "KAoDgkBIEmdz"
      },
      "execution_count": null,
      "outputs": []
    },
    {
      "cell_type": "code",
      "source": [
        ""
      ],
      "metadata": {
        "id": "QexykWFQEmgX"
      },
      "execution_count": null,
      "outputs": []
    },
    {
      "cell_type": "code",
      "source": [
        ""
      ],
      "metadata": {
        "id": "ZDphvOECEmjK"
      },
      "execution_count": null,
      "outputs": []
    },
    {
      "cell_type": "code",
      "source": [
        ""
      ],
      "metadata": {
        "id": "vWZKMJmkEmkv"
      },
      "execution_count": null,
      "outputs": []
    },
    {
      "cell_type": "code",
      "source": [
        ""
      ],
      "metadata": {
        "id": "jRUbn8ZoEmnU"
      },
      "execution_count": null,
      "outputs": []
    },
    {
      "cell_type": "code",
      "source": [
        ""
      ],
      "metadata": {
        "id": "J0DnaBTZEmpv"
      },
      "execution_count": null,
      "outputs": []
    },
    {
      "cell_type": "code",
      "source": [
        ""
      ],
      "metadata": {
        "id": "o3IFHCYuEmsE"
      },
      "execution_count": null,
      "outputs": []
    },
    {
      "cell_type": "code",
      "source": [
        ""
      ],
      "metadata": {
        "id": "nusMoaFkEmt_"
      },
      "execution_count": null,
      "outputs": []
    },
    {
      "cell_type": "code",
      "source": [
        ""
      ],
      "metadata": {
        "id": "r6Yk2E-jEmwd"
      },
      "execution_count": null,
      "outputs": []
    },
    {
      "cell_type": "code",
      "source": [
        ""
      ],
      "metadata": {
        "id": "Cz20c0ZkEmyi"
      },
      "execution_count": null,
      "outputs": []
    }
  ]
}